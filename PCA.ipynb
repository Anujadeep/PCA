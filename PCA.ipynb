{
  "nbformat": 4,
  "nbformat_minor": 0,
  "metadata": {
    "kernelspec": {
      "display_name": "Python 3",
      "language": "python",
      "name": "python3"
    },
    "language_info": {
      "codemirror_mode": {
        "name": "ipython",
        "version": 3
      },
      "file_extension": ".py",
      "mimetype": "text/x-python",
      "name": "python",
      "nbconvert_exporter": "python",
      "pygments_lexer": "ipython3",
      "version": "3.7.6"
    },
    "colab": {
      "name": "PCA.ipynb",
      "provenance": []
    }
  },
  "cells": [
    {
      "cell_type": "code",
      "metadata": {
        "id": "b8sbr1rE4UeK",
        "colab_type": "code",
        "colab": {}
      },
      "source": [
        "import numpy as np\n",
        "import pandas as pd\n",
        "import matplotlib.pyplot as plt\n",
        "import seaborn as sns"
      ],
      "execution_count": null,
      "outputs": []
    },
    {
      "cell_type": "markdown",
      "metadata": {
        "id": "cTIwNqHi4UeP",
        "colab_type": "text"
      },
      "source": [
        "![1_QUOj_W3-DPeW7oBRgq2Iig.png](attachment:1_QUOj_W3-DPeW7oBRgq2Iig.png)"
      ]
    },
    {
      "cell_type": "code",
      "metadata": {
        "id": "mSNTGjaj4UeP",
        "colab_type": "code",
        "colab": {}
      },
      "source": [
        "import pandas as pd"
      ],
      "execution_count": null,
      "outputs": []
    },
    {
      "cell_type": "code",
      "metadata": {
        "id": "w9FoH45S4UeR",
        "colab_type": "code",
        "colab": {}
      },
      "source": [
        "df=pd.read_csv(r\"E:\\Data\\iris.csv\")"
      ],
      "execution_count": null,
      "outputs": []
    },
    {
      "cell_type": "code",
      "metadata": {
        "id": "G7tNHxEO4UeT",
        "colab_type": "code",
        "colab": {},
        "outputId": "4455a215-1f43-4f03-b014-e474845ca13a"
      },
      "source": [
        "df.columns"
      ],
      "execution_count": null,
      "outputs": [
        {
          "output_type": "execute_result",
          "data": {
            "text/plain": [
              "Index(['sepal_length', 'sepal_width', 'petal_length', 'petal_width',\n",
              "       'species'],\n",
              "      dtype='object')"
            ]
          },
          "metadata": {
            "tags": []
          },
          "execution_count": 18
        }
      ]
    },
    {
      "cell_type": "code",
      "metadata": {
        "id": "YDQRU5gU4UeW",
        "colab_type": "code",
        "colab": {}
      },
      "source": [
        "df=df.drop(\"species\",axis=1)"
      ],
      "execution_count": null,
      "outputs": []
    },
    {
      "cell_type": "code",
      "metadata": {
        "id": "pdZFRZq94UeY",
        "colab_type": "code",
        "colab": {},
        "outputId": "8a0e36fc-6a64-4bd0-fcb6-d08884de97fa"
      },
      "source": [
        "df.shape"
      ],
      "execution_count": null,
      "outputs": [
        {
          "output_type": "execute_result",
          "data": {
            "text/plain": [
              "(150, 4)"
            ]
          },
          "metadata": {
            "tags": []
          },
          "execution_count": 31
        }
      ]
    },
    {
      "cell_type": "code",
      "metadata": {
        "id": "Nq0Tt36K4Ueb",
        "colab_type": "code",
        "colab": {}
      },
      "source": [
        "cov_mat=df.cov()"
      ],
      "execution_count": null,
      "outputs": []
    },
    {
      "cell_type": "code",
      "metadata": {
        "id": "ikmIavSe4Uee",
        "colab_type": "code",
        "colab": {},
        "outputId": "bee2083d-c88d-4750-ded8-d21eb2a2cd25"
      },
      "source": [
        "cov_mat.values"
      ],
      "execution_count": null,
      "outputs": [
        {
          "output_type": "execute_result",
          "data": {
            "text/plain": [
              "array([[ 0.68569351, -0.042434  ,  1.27431544,  0.51627069],\n",
              "       [-0.042434  ,  0.18997942, -0.32965638, -0.12163937],\n",
              "       [ 1.27431544, -0.32965638,  3.11627785,  1.2956094 ],\n",
              "       [ 0.51627069, -0.12163937,  1.2956094 ,  0.58100626]])"
            ]
          },
          "metadata": {
            "tags": []
          },
          "execution_count": 26
        }
      ]
    },
    {
      "cell_type": "code",
      "metadata": {
        "id": "GB-P98tr4Ueg",
        "colab_type": "code",
        "colab": {}
      },
      "source": [
        "eigen_val,eigen_vector=np.linalg.eig(cov_mat.values)"
      ],
      "execution_count": null,
      "outputs": []
    },
    {
      "cell_type": "code",
      "metadata": {
        "id": "MreAYRwG4Uei",
        "colab_type": "code",
        "colab": {},
        "outputId": "46602fe1-25de-4730-ebdf-df6b74c0bb69"
      },
      "source": [
        "eigen_vector"
      ],
      "execution_count": null,
      "outputs": [
        {
          "output_type": "execute_result",
          "data": {
            "text/plain": [
              "array([[ 0.36138659, -0.65658877, -0.58202985,  0.31548719],\n",
              "       [-0.08452251, -0.73016143,  0.59791083, -0.3197231 ],\n",
              "       [ 0.85667061,  0.17337266,  0.07623608, -0.47983899],\n",
              "       [ 0.3582892 ,  0.07548102,  0.54583143,  0.75365743]])"
            ]
          },
          "metadata": {
            "tags": []
          },
          "execution_count": 28
        }
      ]
    },
    {
      "cell_type": "code",
      "metadata": {
        "id": "TnpYfNdZ4Uek",
        "colab_type": "code",
        "colab": {},
        "outputId": "14b51384-d4e4-415f-95dc-5ce0bd7b6ff7"
      },
      "source": [
        "eigen_val"
      ],
      "execution_count": null,
      "outputs": [
        {
          "output_type": "execute_result",
          "data": {
            "text/plain": [
              "array([4.22824171, 0.24267075, 0.0782095 , 0.02383509])"
            ]
          },
          "metadata": {
            "tags": []
          },
          "execution_count": 29
        }
      ]
    },
    {
      "cell_type": "code",
      "metadata": {
        "id": "7Bqqak9O4Uem",
        "colab_type": "code",
        "colab": {},
        "outputId": "0463428a-07fa-4372-a99d-2d7fcdb96e3d"
      },
      "source": [
        "a=eigen_vector[:,:3]\n",
        "a.shape"
      ],
      "execution_count": null,
      "outputs": [
        {
          "output_type": "execute_result",
          "data": {
            "text/plain": [
              "(4, 3)"
            ]
          },
          "metadata": {
            "tags": []
          },
          "execution_count": 56
        }
      ]
    },
    {
      "cell_type": "code",
      "metadata": {
        "id": "HQNIZ1E54Ueo",
        "colab_type": "code",
        "colab": {},
        "outputId": "d8faa8a3-14d7-4bda-eb4f-fa01a12dc2c3"
      },
      "source": [
        "a"
      ],
      "execution_count": null,
      "outputs": [
        {
          "output_type": "execute_result",
          "data": {
            "text/plain": [
              "array([[ 0.36138659, -0.65658877, -0.58202985],\n",
              "       [-0.08452251, -0.73016143,  0.59791083],\n",
              "       [ 0.85667061,  0.17337266,  0.07623608],\n",
              "       [ 0.3582892 ,  0.07548102,  0.54583143]])"
            ]
          },
          "metadata": {
            "tags": []
          },
          "execution_count": 57
        }
      ]
    },
    {
      "cell_type": "code",
      "metadata": {
        "id": "J8iW_a4M4Ueq",
        "colab_type": "code",
        "colab": {},
        "outputId": "f461abdf-4784-4be1-b009-ced32e760923"
      },
      "source": [
        "a.shape"
      ],
      "execution_count": null,
      "outputs": [
        {
          "output_type": "execute_result",
          "data": {
            "text/plain": [
              "(4, 3)"
            ]
          },
          "metadata": {
            "tags": []
          },
          "execution_count": 58
        }
      ]
    },
    {
      "cell_type": "code",
      "metadata": {
        "id": "RUETofmY4Ues",
        "colab_type": "code",
        "colab": {}
      },
      "source": [
        "d=np.dot(df,a)"
      ],
      "execution_count": null,
      "outputs": []
    },
    {
      "cell_type": "code",
      "metadata": {
        "id": "bOxR3aVO4Uew",
        "colab_type": "code",
        "colab": {},
        "outputId": "180e6bcd-a240-430a-8d6d-1fd7b7ca7152"
      },
      "source": [
        "d.shape"
      ],
      "execution_count": null,
      "outputs": [
        {
          "output_type": "execute_result",
          "data": {
            "text/plain": [
              "(150, 3)"
            ]
          },
          "metadata": {
            "tags": []
          },
          "execution_count": 60
        }
      ]
    },
    {
      "cell_type": "code",
      "metadata": {
        "id": "c8ggnBvt4Uey",
        "colab_type": "code",
        "colab": {}
      },
      "source": [
        ""
      ],
      "execution_count": null,
      "outputs": []
    },
    {
      "cell_type": "code",
      "metadata": {
        "id": "lgfq1N6M4Ue0",
        "colab_type": "code",
        "colab": {}
      },
      "source": [
        "from sklearn.decomposition import PCA\n"
      ],
      "execution_count": null,
      "outputs": []
    },
    {
      "cell_type": "code",
      "metadata": {
        "id": "qyij6Wai4Ue1",
        "colab_type": "code",
        "colab": {}
      },
      "source": [
        "algo=PCA(n_components=3)"
      ],
      "execution_count": null,
      "outputs": []
    },
    {
      "cell_type": "code",
      "metadata": {
        "id": "-6HFI-HV4Ue3",
        "colab_type": "code",
        "colab": {},
        "outputId": "bfe160ec-dbc1-42e3-c8a0-7a0f8e525e29"
      },
      "source": [
        "algo.fit(df)"
      ],
      "execution_count": null,
      "outputs": [
        {
          "output_type": "execute_result",
          "data": {
            "text/plain": [
              "PCA(copy=True, iterated_power='auto', n_components=3, random_state=None,\n",
              "    svd_solver='auto', tol=0.0, whiten=False)"
            ]
          },
          "metadata": {
            "tags": []
          },
          "execution_count": 79
        }
      ]
    },
    {
      "cell_type": "code",
      "metadata": {
        "id": "fwjzPCnp4Ue5",
        "colab_type": "code",
        "colab": {}
      },
      "source": [
        "df1=algo.transform(df)"
      ],
      "execution_count": null,
      "outputs": []
    },
    {
      "cell_type": "code",
      "metadata": {
        "id": "Zcbbf7ie4Ue7",
        "colab_type": "code",
        "colab": {},
        "outputId": "874db6b0-a9ca-4519-80f7-39ba9962c0a6"
      },
      "source": [
        "df1.shape"
      ],
      "execution_count": null,
      "outputs": [
        {
          "output_type": "execute_result",
          "data": {
            "text/plain": [
              "(150, 3)"
            ]
          },
          "metadata": {
            "tags": []
          },
          "execution_count": 81
        }
      ]
    },
    {
      "cell_type": "code",
      "metadata": {
        "id": "saaZdAY34Ue9",
        "colab_type": "code",
        "colab": {},
        "outputId": "ddc52cae-892c-4b3b-902d-5d7c2ea61544"
      },
      "source": [
        "algo.explained_variance_ratio_"
      ],
      "execution_count": null,
      "outputs": [
        {
          "output_type": "execute_result",
          "data": {
            "text/plain": [
              "array([0.92461872, 0.05306648, 0.01710261])"
            ]
          },
          "metadata": {
            "tags": []
          },
          "execution_count": 82
        }
      ]
    },
    {
      "cell_type": "code",
      "metadata": {
        "id": "4hxvqDAt4Ue_",
        "colab_type": "code",
        "colab": {},
        "outputId": "a93dff25-5051-4901-fdc4-3a5334e0bad4"
      },
      "source": [
        "algo1=PCA(0.95)\n",
        "algo1.fit(df)\n"
      ],
      "execution_count": null,
      "outputs": [
        {
          "output_type": "execute_result",
          "data": {
            "text/plain": [
              "PCA(copy=True, iterated_power='auto', n_components=0.95, random_state=None,\n",
              "    svd_solver='auto', tol=0.0, whiten=False)"
            ]
          },
          "metadata": {
            "tags": []
          },
          "execution_count": 97
        }
      ]
    },
    {
      "cell_type": "code",
      "metadata": {
        "id": "KXvR31r34UfB",
        "colab_type": "code",
        "colab": {},
        "outputId": "62d86aa1-7f16-48f6-a472-5f6fca8ddfb9"
      },
      "source": [
        "algo1.n_components_"
      ],
      "execution_count": null,
      "outputs": [
        {
          "output_type": "execute_result",
          "data": {
            "text/plain": [
              "2"
            ]
          },
          "metadata": {
            "tags": []
          },
          "execution_count": 98
        }
      ]
    },
    {
      "cell_type": "code",
      "metadata": {
        "id": "qbuq5WI64UfD",
        "colab_type": "code",
        "colab": {}
      },
      "source": [
        ""
      ],
      "execution_count": null,
      "outputs": []
    }
  ]
}